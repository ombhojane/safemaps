{
 "cells": [
  {
   "cell_type": "code",
   "execution_count": 4,
   "metadata": {},
   "outputs": [],
   "source": [
    "import os\n",
    "import google.generativeai as genai\n",
    "from dotenv import load_dotenv\n",
    "\n",
    "load_dotenv()\n",
    "\n",
    "genai.configure(api_key=os.environ[\"GEMINI_API_KEY\"])\n"
   ]
  },
  {
   "cell_type": "code",
   "execution_count": 5,
   "metadata": {},
   "outputs": [],
   "source": [
    "\n",
    "def upload_to_gemini(path, mime_type=None):\n",
    "  \"\"\"Uploads the given file to Gemini.\n",
    "\n",
    "  See https://ai.google.dev/gemini-api/docs/prompting_with_media\n",
    "  \"\"\"\n",
    "  file = genai.upload_file(path, mime_type=mime_type)\n",
    "  print(f\"Uploaded file '{file.display_name}' as: {file.uri}\")\n",
    "  return file\n",
    "\n",
    "# Create the model\n",
    "generation_config = {\n",
    "\"temperature\": 0,\n",
    "\"top_p\": 0.95,\n",
    "\"top_k\": 40,\n",
    "\"max_output_tokens\": 8192,\n",
    "\"response_mime_type\": \"text/plain\",\n",
    "}\n",
    "\n",
    "model = genai.GenerativeModel(\n",
    "model_name=\"gemini-1.5-pro\",\n",
    "generation_config=generation_config,\n",
    ")\n",
    "\n",
    "def call_gemini_with_image(image_path, prompt, mime_type=\"image/jpeg\"):\n",
    "  \n",
    "\n",
    "  # Upload the image file\n",
    "  file = upload_to_gemini(image_path, mime_type=mime_type)\n",
    "  \n",
    "  # Start a chat session with the image\n",
    "  chat_session = model.start_chat(\n",
    "    history=[\n",
    "      {\n",
    "        \"role\": \"user\",\n",
    "        \"parts\": [\n",
    "          file,\n",
    "        ],\n",
    "      },\n",
    "    ]\n",
    "  )\n",
    "\n",
    "  # Send the prompt and get the response\n",
    "  response = chat_session.send_message(prompt)\n",
    "  \n",
    "  return response.text\n",
    "\n"
   ]
  },
  {
   "cell_type": "code",
   "execution_count": 9,
   "metadata": {},
   "outputs": [],
   "source": [
    "prompt =\"\"\"\n",
    "Analyze this street view image and provide a comprehensive safety risk assessment based on the following parameters:\n",
    "\n",
    "1. Road Infrastructure:\n",
    "   - Road condition (potholes, cracks, uneven surfaces)\n",
    "   - Lane markings and visibility\n",
    "   - Traffic signals and signs (presence, visibility, condition)\n",
    "   - Intersections and junctions (design, visibility)\n",
    "   - Pedestrian infrastructure (sidewalks, crossings, barriers)\n",
    "\n",
    "2. Environmental Factors:\n",
    "   - Lighting conditions (adequate for visibility)\n",
    "   - Weather impact on road conditions\n",
    "   - Visibility issues (fog, glare, obstructions)\n",
    "   - Natural hazards (flooding areas, landslide prone)\n",
    "   - Time of day considerations\n",
    "\n",
    "3. Human Factors:\n",
    "   - Pedestrian density and behavior\n",
    "   - School zones or other special areas\n",
    "   - Commercial activity level\n",
    "   - Evidence of traffic rule violations\n",
    "   - Population density indicators\n",
    "\n",
    "4. Infrastructure Quality:\n",
    "   - Road maintenance level\n",
    "   - Construction zones or temporary hazards\n",
    "   - Utility infrastructure condition (poles, wires)\n",
    "   - Drainage systems\n",
    "   - Barriers and guardrails\n",
    "\n",
    "5. Location-Specific Risks:\n",
    "   - Evidence of previous accidents\n",
    "   - Blind spots or visual obstructions\n",
    "   - Unusual road geometry (sharp turns, steep grades)\n",
    "   - Unauthorized structures or encroachments\n",
    "   - Animal crossing areas\n",
    "\n",
    "Analyze this street view image and provide a safety risk assessment in the following JSON format:\n",
    "{\n",
    "\"score\": [a number from 1-100 where 1 is extremely dangerous and 100 is very safe],\n",
    "\"explanation\": [a brief summary of the key safety concerns or positive safety features observed in the image]\n",
    "}\n",
    "\n",
    "Focus only on what is visible in the image.\n",
    "\"\"\""
   ]
  },
  {
   "cell_type": "code",
   "execution_count": 11,
   "metadata": {},
   "outputs": [
    {
     "name": "stdout",
     "output_type": "stream",
     "text": [
      "Uploaded file 'pic.png' as: https://generativelanguage.googleapis.com/v1beta/files/hgcxcwkhh3i4\n",
      "```json\n",
      "{\n",
      "  \"score\": 65,\n",
      "  \"explanation\": \"The road appears to be in reasonably good condition with visible lane markings. However, the lack of dedicated pedestrian infrastructure like sidewalks or crosswalks poses a risk to pedestrians sharing the road with motorized vehicles.  The presence of parked vehicles and informal commercial activity along the roadside could further obstruct visibility and increase the risk of accidents. While the lighting conditions seem adequate for daytime, the image doesn't provide information about nighttime visibility.  No obvious traffic signals are visible, and the general environment suggests a moderate population density with potential for mixed traffic interactions. The absence of clear signage or speed control measures could also be a concern.\"\n",
      "}\n",
      "```\n"
     ]
    }
   ],
   "source": [
    "response_text = call_gemini_with_image(\"pic.png\", prompt)\n",
    "print(response_text)"
   ]
  },
  {
   "cell_type": "code",
   "execution_count": null,
   "metadata": {},
   "outputs": [],
   "source": []
  }
 ],
 "metadata": {
  "kernelspec": {
   "display_name": "Python 3",
   "language": "python",
   "name": "python3"
  },
  "language_info": {
   "codemirror_mode": {
    "name": "ipython",
    "version": 3
   },
   "file_extension": ".py",
   "mimetype": "text/x-python",
   "name": "python",
   "nbconvert_exporter": "python",
   "pygments_lexer": "ipython3",
   "version": "3.11.9"
  }
 },
 "nbformat": 4,
 "nbformat_minor": 2
}
